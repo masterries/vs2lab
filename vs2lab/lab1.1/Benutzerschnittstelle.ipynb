{
 "cells": [
  {
   "cell_type": "markdown",
   "metadata": {},
   "source": [
    "# Telefonauskunftsdienst und Benutzerschnittstelle müssen in seperaten Notebooks gestartet werden - Benutzerschnittstellenteil"
   ]
  },
  {
   "cell_type": "markdown",
   "metadata": {},
   "source": [
    "### GET: Bitte beachten Sie die Syntax: client.get(\"vorname nachname\"). "
   ]
  },
  {
   "cell_type": "markdown",
   "metadata": {},
   "source": [
    "### GET_ALL: Mit Get All werden alle Personen aus der Telefon - \"Datenbank\" geholt. Hierbei werden keine Parameter benötigt."
   ]
  },
  {
   "cell_type": "code",
   "execution_count": 1,
   "metadata": {},
   "outputs": [
    {
     "name": "stderr",
     "output_type": "stream",
     "text": [
      "2020-04-28 18:08:59,568 - vs2lab.a1_layers.clientserver.Client - INFO - Client connected to socket <socket.socket fd=58, family=AddressFamily.AF_INET, type=SocketKind.SOCK_STREAM, proto=0, laddr=('127.0.0.1', 54056), raddr=('127.0.0.1', 50007)>\n"
     ]
    }
   ],
   "source": [
    "import A3_clientserver\n",
    "benutzerschnittstelle = A3_clientserver.Benutzerschnittstelle()"
   ]
  },
  {
   "cell_type": "code",
   "execution_count": 2,
   "metadata": {
    "pycharm": {
     "name": "#%%\n"
    }
   },
   "outputs": [
    {
     "name": "stderr",
     "output_type": "stream",
     "text": [
      "2020-04-28 18:08:59,600 - vs2lab.a1_layers.clientserver.Client - INFO - Successfully sent.\n"
     ]
    },
    {
     "data": {
      "text/plain": [
       "{'1': {'name': 'Ries', 'prename': 'Patrick', 'age': 22},\n",
       " '2': {'name': 'Kai', 'prename': 'Schwank', 'age': 21}}"
      ]
     },
     "execution_count": 2,
     "metadata": {},
     "output_type": "execute_result"
    }
   ],
   "source": [
    "benutzerschnittstelle.get_all()"
   ]
  },
  {
   "cell_type": "code",
   "execution_count": 3,
   "metadata": {},
   "outputs": [
    {
     "name": "stderr",
     "output_type": "stream",
     "text": [
      "2020-04-28 18:08:59,666 - vs2lab.a1_layers.clientserver.Client - INFO - Successfully sent.\n"
     ]
    },
    {
     "data": {
      "text/plain": [
       "{'name': 'Ries', 'prename': 'Patrick', 'age': 22}"
      ]
     },
     "execution_count": 3,
     "metadata": {},
     "output_type": "execute_result"
    }
   ],
   "source": [
    "benutzerschnittstelle.get('Patrick Ries')"
   ]
  },
  {
   "cell_type": "code",
   "execution_count": 4,
   "metadata": {},
   "outputs": [
    {
     "name": "stderr",
     "output_type": "stream",
     "text": [
      "2020-04-28 18:08:59,700 - vs2lab.a1_layers.clientserver.Client - INFO - Successfully sent.\n"
     ]
    },
    {
     "data": {
      "text/plain": [
       "{'name': 'Ries', 'prename': 'Patrick', 'age': 22}"
      ]
     },
     "execution_count": 4,
     "metadata": {},
     "output_type": "execute_result"
    }
   ],
   "source": [
    "benutzerschnittstelle.get('Patrick RIES')"
   ]
  },
  {
   "cell_type": "code",
   "execution_count": 5,
   "metadata": {},
   "outputs": [
    {
     "name": "stderr",
     "output_type": "stream",
     "text": [
      "2020-04-28 18:08:59,735 - vs2lab.a1_layers.clientserver.Client - INFO - Successfully sent.\n"
     ]
    },
    {
     "data": {
      "text/plain": [
       "{'name': 'Ries', 'prename': 'Patrick', 'age': 22}"
      ]
     },
     "execution_count": 5,
     "metadata": {},
     "output_type": "execute_result"
    }
   ],
   "source": [
    "benutzerschnittstelle.get('PaTrick RiES')"
   ]
  },
  {
   "cell_type": "code",
   "execution_count": 6,
   "metadata": {},
   "outputs": [
    {
     "name": "stderr",
     "output_type": "stream",
     "text": [
      "2020-04-28 18:08:59,768 - vs2lab.a1_layers.clientserver.Client - INFO - Successfully sent.\n"
     ]
    },
    {
     "data": {
      "text/plain": [
       "{}"
      ]
     },
     "execution_count": 6,
     "metadata": {},
     "output_type": "execute_result"
    }
   ],
   "source": [
    "benutzerschnittstelle.get('Ries')"
   ]
  },
  {
   "cell_type": "code",
   "execution_count": 7,
   "metadata": {},
   "outputs": [
    {
     "name": "stderr",
     "output_type": "stream",
     "text": [
      "2020-04-28 18:08:59,809 - vs2lab.a1_layers.clientserver.Client - INFO - Successfully sent.\n"
     ]
    },
    {
     "data": {
      "text/plain": [
       "{}"
      ]
     },
     "execution_count": 7,
     "metadata": {},
     "output_type": "execute_result"
    }
   ],
   "source": [
    "benutzerschnittstelle.get('Patrick')"
   ]
  },
  {
   "cell_type": "code",
   "execution_count": 8,
   "metadata": {},
   "outputs": [
    {
     "name": "stderr",
     "output_type": "stream",
     "text": [
      "2020-04-28 18:08:59,852 - vs2lab.a1_layers.clientserver.Client - INFO - Successfully sent.\n"
     ]
    },
    {
     "data": {
      "text/plain": [
       "{'name': 'Kai', 'prename': 'Schwank', 'age': 21}"
      ]
     },
     "execution_count": 8,
     "metadata": {},
     "output_type": "execute_result"
    }
   ],
   "source": [
    "benutzerschnittstelle.get('Schwank Kai')"
   ]
  },
  {
   "cell_type": "code",
   "execution_count": 9,
   "metadata": {},
   "outputs": [
    {
     "name": "stderr",
     "output_type": "stream",
     "text": [
      "2020-04-28 18:08:59,884 - vs2lab.a1_layers.clientserver.Client - INFO - Connection closed.\n"
     ]
    }
   ],
   "source": [
    "benutzerschnittstelle.close()"
   ]
  }
 ],
 "metadata": {
  "file_extension": ".py",
  "kernelspec": {
   "display_name": "Python 3",
   "language": "python",
   "name": "python3"
  },
  "language_info": {
   "codemirror_mode": {
    "name": "ipython",
    "version": 3
   },
   "file_extension": ".py",
   "mimetype": "text/x-python",
   "name": "python",
   "nbconvert_exporter": "python",
   "pygments_lexer": "ipython3",
   "version": "3.6.9"
  },
  "mimetype": "text/x-python",
  "name": "python",
  "npconvert_exporter": "python",
  "pygments_lexer": "ipython3",
  "version": 3
 },
 "nbformat": 4,
 "nbformat_minor": 2
}
