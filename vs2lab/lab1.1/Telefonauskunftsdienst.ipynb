{
 "cells": [
  {
   "cell_type": "markdown",
   "metadata": {},
   "source": [
    "# Telefonauskunftsdienst und Benutzerschnittstelle müssen in seperaten Notebooks gestartet werden - Telefonauskunftdientsteil"
   ]
  },
  {
   "cell_type": "markdown",
   "metadata": {},
   "source": [
    "## Der Telefonauskunftsdients Server ist das erste Notebook was gestartet werden muss.\n"
   ]
  },
  {
   "cell_type": "code",
   "execution_count": null,
   "metadata": {},
   "outputs": [
    {
     "name": "stderr",
     "output_type": "stream",
     "text": [
      "2020-04-28 18:06:03,035 - vs2lab.lab1.clientserver.Server - INFO - Server bound to socket <socket.socket fd=58, family=AddressFamily.AF_INET, type=2049, proto=0, laddr=('127.0.0.1', 50007)>\n"
     ]
    }
   ],
   "source": [
    "import A3_clientserver \n",
    "telefonauskunftsdienst = A3_clientserver.Telefonauskunftsdienst()\n",
    "telefonauskunftsdienst.serve()"
   ]
  },
  {
   "cell_type": "code",
   "execution_count": null,
   "metadata": {},
   "outputs": [],
   "source": []
  },
  {
   "cell_type": "code",
   "execution_count": null,
   "metadata": {},
   "outputs": [],
   "source": []
  }
 ],
 "metadata": {
  "file_extension": ".py",
  "kernelspec": {
   "display_name": "Python 3",
   "language": "python",
   "name": "python3"
  },
  "language_info": {
   "codemirror_mode": {
    "name": "ipython",
    "version": 3
   },
   "file_extension": ".py",
   "mimetype": "text/x-python",
   "name": "python",
   "nbconvert_exporter": "python",
   "pygments_lexer": "ipython3",
   "version": "3.6.9"
  },
  "mimetype": "text/x-python",
  "name": "python",
  "npconvert_exporter": "python",
  "pygments_lexer": "ipython3",
  "version": 3
 },
 "nbformat": 4,
 "nbformat_minor": 2
}
